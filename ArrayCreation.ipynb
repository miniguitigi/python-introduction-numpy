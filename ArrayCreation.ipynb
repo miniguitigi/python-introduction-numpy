{
 "cells": [
  {
   "cell_type": "code",
   "execution_count": 5,
   "id": "9d5bee40-85db-4330-b8c8-00595c341109",
   "metadata": {},
   "outputs": [
    {
     "name": "stdout",
     "output_type": "stream",
     "text": [
      "Requirement already satisfied: numpy in c:\\users\\franca\\appdata\\local\\programs\\python\\python312\\lib\\site-packages (1.26.1)\n",
      "Note: you may need to restart the kernel to use updated packages.\n"
     ]
    }
   ],
   "source": [
    "pip install numpy --upgrade"
   ]
  },
  {
   "cell_type": "code",
   "execution_count": 6,
   "id": "d1748011-5c78-4013-97cb-89dba89cf29a",
   "metadata": {},
   "outputs": [],
   "source": [
    "import numpy as np"
   ]
  },
  {
   "cell_type": "code",
   "execution_count": 7,
   "id": "6c8a0119-6d93-4527-a536-8250c6a1f37b",
   "metadata": {},
   "outputs": [
    {
     "data": {
      "text/plain": [
       "array([0, 1, 3, 5, 7, 9])"
      ]
     },
     "execution_count": 7,
     "metadata": {},
     "output_type": "execute_result"
    }
   ],
   "source": [
    "array_one = np.array([0,1,3,5,7,9])\n",
    "array_one"
   ]
  },
  {
   "cell_type": "code",
   "execution_count": 8,
   "id": "a2ba75f4-0974-444f-b42b-79a53d87efc3",
   "metadata": {},
   "outputs": [
    {
     "data": {
      "text/plain": [
       "array([11, 22, 33, 44, 55, 66, 77])"
      ]
     },
     "execution_count": 8,
     "metadata": {},
     "output_type": "execute_result"
    }
   ],
   "source": [
    "num = [11,22,33,44,55,66,77]\n",
    "array_two = np.array(num)\n",
    "array_two"
   ]
  },
  {
   "cell_type": "code",
   "execution_count": 9,
   "id": "b108c425-0b0b-451c-b06f-59783f1d1b82",
   "metadata": {},
   "outputs": [
    {
     "data": {
      "text/plain": [
       "array([[0., 0., 0.],\n",
       "       [0., 0., 0.]])"
      ]
     },
     "execution_count": 9,
     "metadata": {},
     "output_type": "execute_result"
    }
   ],
   "source": [
    "array_of_zeroes = np.zeros((2,3))\n",
    "array_of_zeroes"
   ]
  },
  {
   "cell_type": "code",
   "execution_count": 10,
   "id": "b7116c10-0f07-47f7-86a0-4d3eaef517d1",
   "metadata": {},
   "outputs": [
    {
     "data": {
      "text/plain": [
       "array([[1., 1.],\n",
       "       [1., 1.],\n",
       "       [1., 1.]])"
      ]
     },
     "execution_count": 10,
     "metadata": {},
     "output_type": "execute_result"
    }
   ],
   "source": [
    "array_of_ones = np.ones((3,2))\n",
    "array_of_ones"
   ]
  },
  {
   "cell_type": "code",
   "execution_count": 13,
   "id": "b30eca0e-38c8-4b5a-84c6-f170f05b9316",
   "metadata": {},
   "outputs": [
    {
     "data": {
      "text/plain": [
       "array([[1, 1],\n",
       "       [1, 1],\n",
       "       [1, 1]])"
      ]
     },
     "execution_count": 13,
     "metadata": {},
     "output_type": "execute_result"
    }
   ],
   "source": [
    "array_of_ones = np.ones((3,2) , dtype = np.int32)\n",
    "array_of_ones"
   ]
  },
  {
   "cell_type": "code",
   "execution_count": 14,
   "id": "58021b88-1e60-4146-87f8-06a9ae550317",
   "metadata": {},
   "outputs": [
    {
     "data": {
      "text/plain": [
       "array([[1., 1.],\n",
       "       [1., 1.],\n",
       "       [1., 1.]])"
      ]
     },
     "execution_count": 14,
     "metadata": {},
     "output_type": "execute_result"
    }
   ],
   "source": [
    "array_empty = np.empty((3,2))\n",
    "array_empty"
   ]
  },
  {
   "cell_type": "code",
   "execution_count": 17,
   "id": "900068f3-443d-4b06-9db7-acf46c0fd32b",
   "metadata": {},
   "outputs": [
    {
     "data": {
      "text/plain": [
       "array([[1., 0., 0., 0.],\n",
       "       [0., 1., 0., 0.],\n",
       "       [0., 0., 1., 0.],\n",
       "       [0., 0., 0., 1.]])"
      ]
     },
     "execution_count": 17,
     "metadata": {},
     "output_type": "execute_result"
    }
   ],
   "source": [
    "array_eye = np.eye(4)\n",
    "array_eye\n",
    "#Para criar matriz quadradas"
   ]
  },
  {
   "cell_type": "code",
   "execution_count": 18,
   "id": "194490c5-dd4a-4cb6-90d2-a9e656e34698",
   "metadata": {},
   "outputs": [
    {
     "data": {
      "text/plain": [
       "array([ 2,  4,  6,  8, 10, 12, 14, 16, 18, 20, 22])"
      ]
     },
     "execution_count": 18,
     "metadata": {},
     "output_type": "execute_result"
    }
   ],
   "source": [
    "array_of_evens = np.arange(2,24,2)\n",
    "array_of_evens\n",
    "# os argumentos passados são: o limite inferior da matriz\n",
    "#o limite superior e o intervalo, nesse caso a matriz irá iniciar com o elemento 2\n",
    "# e cada elemento será 2x maior do que ele até que o 24 seja atingido"
   ]
  }
 ],
 "metadata": {
  "kernelspec": {
   "display_name": "Python 3 (ipykernel)",
   "language": "python",
   "name": "python3"
  },
  "language_info": {
   "codemirror_mode": {
    "name": "ipython",
    "version": 3
   },
   "file_extension": ".py",
   "mimetype": "text/x-python",
   "name": "python",
   "nbconvert_exporter": "python",
   "pygments_lexer": "ipython3",
   "version": "3.12.0"
  }
 },
 "nbformat": 4,
 "nbformat_minor": 5
}
